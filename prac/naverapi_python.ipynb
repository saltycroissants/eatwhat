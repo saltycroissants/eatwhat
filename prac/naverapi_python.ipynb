{
 "cells": [
  {
   "cell_type": "code",
   "execution_count": 11,
   "metadata": {},
   "outputs": [],
   "source": [
    "import os\n",
    "import sys\n",
    "import json\n",
    "import requests"
   ]
  },
  {
   "cell_type": "code",
   "execution_count": 12,
   "metadata": {},
   "outputs": [],
   "source": [
    "url = \"https://openapi.naver.com/v1/search/local.json\"\n",
    "param = {\n",
    "    \"query\" : \"노은동 고기\",\n",
    "    \"display\" : 5\n",
    "}\n",
    "nheaders ={\n",
    "    \"X-Naver-Client-Id\" : \"hBwX2RgYzXT21cJDCpTR\",\n",
    "    \"X-Naver-Client-Secret\" : \"jSx89D1yl0\"\n",
    "}\n"
   ]
  },
  {
   "cell_type": "code",
   "execution_count": 13,
   "metadata": {},
   "outputs": [],
   "source": [
    "res = requests.get(url,headers =nheaders, params =param)"
   ]
  },
  {
   "cell_type": "code",
   "execution_count": 14,
   "metadata": {},
   "outputs": [
    {
     "data": {
      "text/plain": [
       "200"
      ]
     },
     "execution_count": 14,
     "metadata": {},
     "output_type": "execute_result"
    }
   ],
   "source": [
    "res.status_code"
   ]
  },
  {
   "cell_type": "code",
   "execution_count": 15,
   "metadata": {},
   "outputs": [],
   "source": [
    "data = res.json()"
   ]
  },
  {
   "cell_type": "code",
   "execution_count": 16,
   "metadata": {},
   "outputs": [
    {
     "name": "stdout",
     "output_type": "stream",
     "text": [
      "{\n",
      "  \"lastBuildDate\": \"Wed, 09 Sep 2020 14:24:12 +0900\",\n",
      "  \"total\": 5,\n",
      "  \"start\": 1,\n",
      "  \"display\": 5,\n",
      "  \"items\": [\n",
      "    {\n",
      "      \"title\": \"\\uccad\\uc1a1\\ud55c\\uc6b0\\ud0c0\\uc6b4\",\n",
      "      \"link\": \"http://www.djchungsong.com/\",\n",
      "      \"category\": \"\\ud55c\\uc2dd>\\uc18c\\uace0\\uae30\\uad6c\\uc774\",\n",
      "      \"description\": \"\",\n",
      "      \"telephone\": \"\",\n",
      "      \"address\": \"\\ub300\\uc804\\uad11\\uc5ed\\uc2dc \\uc720\\uc131\\uad6c \\ub178\\uc740\\ub3d9 550-3\",\n",
      "      \"roadAddress\": \"\\ub300\\uc804\\uad11\\uc5ed\\uc2dc \\uc720\\uc131\\uad6c \\ub178\\uc740\\ub3d9\\ub85c79\\ubc88\\uae38 71\",\n",
      "      \"mapx\": \"339120\",\n",
      "      \"mapy\": \"418768\"\n",
      "    },\n",
      "    {\n",
      "      \"title\": \"\\uc2ec\\ub9c8\\ub2c8\\uc0b0\\uc0bc\\uc624\\uace8\\uacc4\",\n",
      "      \"link\": \"http://www0428246933.modoo.at\",\n",
      "      \"category\": \"\\ud55c\\uc2dd>\\ub2ed\\uc694\\ub9ac\",\n",
      "      \"description\": \"\",\n",
      "      \"telephone\": \"\",\n",
      "      \"address\": \"\\ub300\\uc804\\uad11\\uc5ed\\uc2dc \\uc720\\uc131\\uad6c \\ub178\\uc740\\ub3d9 564-6\",\n",
      "      \"roadAddress\": \"\\ub300\\uc804\\uad11\\uc5ed\\uc2dc \\uc720\\uc131\\uad6c \\ub178\\uc740\\uc11c\\ub85c 59\",\n",
      "      \"mapx\": \"338514\",\n",
      "      \"mapy\": \"418581\"\n",
      "    },\n",
      "    {\n",
      "      \"title\": \"\\uc22f\\ubd88\\ub2ed\\uac08\\ube44\\uacc4\\ub975\\uc7a5\\uad70 \\uc720\\uc131\\uc810\",\n",
      "      \"link\": \"\",\n",
      "      \"category\": \"\\uc721\\ub958,\\uace0\\uae30\\uc694\\ub9ac\",\n",
      "      \"description\": \"\",\n",
      "      \"telephone\": \"\",\n",
      "      \"address\": \"\\ub300\\uc804\\uad11\\uc5ed\\uc2dc \\uc720\\uc131\\uad6c \\ub178\\uc740\\ub3d9 548-9\",\n",
      "      \"roadAddress\": \"\\ub300\\uc804\\uad11\\uc5ed\\uc2dc \\uc720\\uc131\\uad6c \\ub178\\uc740\\ub3d9\\ub85c75\\ubc88\\uae38 102-26\",\n",
      "      \"mapx\": \"339202\",\n",
      "      \"mapy\": \"418807\"\n",
      "    },\n",
      "    {\n",
      "      \"title\": \"<b>\\uace0\\uae30</b>\\ucc9c\\uad6d\",\n",
      "      \"link\": \"\",\n",
      "      \"category\": \"\\ud55c\\uc2dd>\\uc721\\ub958,\\uace0\\uae30\\uc694\\ub9ac\",\n",
      "      \"description\": \"\",\n",
      "      \"telephone\": \"\",\n",
      "      \"address\": \"\\ub300\\uc804\\uad11\\uc5ed\\uc2dc \\uc720\\uc131\\uad6c \\ub178\\uc740\\ub3d9 535-35 1\\uce35\",\n",
      "      \"roadAddress\": \"\\ub300\\uc804\\uad11\\uc5ed\\uc2dc \\uc720\\uc131\\uad6c \\ub178\\uc740\\ub3d9\\ub85c79\\ubc88\\uae38 42\",\n",
      "      \"mapx\": \"339286\",\n",
      "      \"mapy\": \"418851\"\n",
      "    },\n",
      "    {\n",
      "      \"title\": \"\\ub3d9\\uac00\\ub9c8\\uace8\",\n",
      "      \"link\": \"\",\n",
      "      \"category\": \"\\ud55c\\uc2dd>\\ub3fc\\uc9c0\\uace0\\uae30\\uad6c\\uc774\",\n",
      "      \"description\": \"\",\n",
      "      \"telephone\": \"\",\n",
      "      \"address\": \"\\ub300\\uc804\\uad11\\uc5ed\\uc2dc \\uc720\\uc131\\uad6c \\ub178\\uc740\\ub3d9 312-18\",\n",
      "      \"roadAddress\": \"\\ub300\\uc804\\uad11\\uc5ed\\uc2dc \\uc720\\uc131\\uad6c \\ub178\\uc740\\uc11c\\ub85c 31-7\",\n",
      "      \"mapx\": \"338620\",\n",
      "      \"mapy\": \"418324\"\n",
      "    }\n",
      "  ]\n",
      "}\n"
     ]
    }
   ],
   "source": [
    "for item in data"
   ]
  }
 ],
 "metadata": {
  "kernelspec": {
   "display_name": "Python 3",
   "language": "python",
   "name": "python3"
  },
  "language_info": {
   "codemirror_mode": {
    "name": "ipython",
    "version": 3
   },
   "file_extension": ".py",
   "mimetype": "text/x-python",
   "name": "python",
   "nbconvert_exporter": "python",
   "pygments_lexer": "ipython3",
   "version": "3.7.4"
  }
 },
 "nbformat": 4,
 "nbformat_minor": 2
}
