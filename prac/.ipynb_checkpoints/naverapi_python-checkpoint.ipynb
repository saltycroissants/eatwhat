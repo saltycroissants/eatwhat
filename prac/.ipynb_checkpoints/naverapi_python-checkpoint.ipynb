{
 "cells": [
  {
   "cell_type": "code",
   "execution_count": 19,
   "metadata": {},
   "outputs": [],
   "source": [
    "import os\n",
    "import sys\n",
    "import json\n",
    "import requests"
   ]
  },
  {
   "cell_type": "code",
   "execution_count": 29,
   "metadata": {},
   "outputs": [],
   "source": [
    "url = \"https://openapi.naver.com/v1/search/local.json\"\n",
    "param = {\n",
    "    \"query\" : \"노은동 고기\",\n",
    "    \"display\" : 5\n",
    "}\n",
    "nheaders ={\n",
    "    \"X-Naver-Client-Id\" : \"hBwX2RgYzXT21cJDCpTR\",\n",
    "    \"X-Naver-Client-Secret\" : \"jSx89D1yl0\"\n",
    "}\n"
   ]
  },
  {
   "cell_type": "code",
   "execution_count": 30,
   "metadata": {},
   "outputs": [],
   "source": [
    "res = requests.get(url,headers =nheaders, params =param)"
   ]
  },
  {
   "cell_type": "code",
   "execution_count": 31,
   "metadata": {},
   "outputs": [
    {
     "data": {
      "text/plain": [
       "200"
      ]
     },
     "execution_count": 31,
     "metadata": {},
     "output_type": "execute_result"
    }
   ],
   "source": [
    "res.status_code"
   ]
  },
  {
   "cell_type": "code",
   "execution_count": 32,
   "metadata": {},
   "outputs": [
    {
     "data": {
      "text/plain": [
       "{'lastBuildDate': 'Mon, 07 Sep 2020 09:59:07 +0900',\n",
       " 'total': 5,\n",
       " 'start': 1,\n",
       " 'display': 5,\n",
       " 'items': [{'title': '청송한우타운',\n",
       "   'link': 'http://www.djchungsong.com/',\n",
       "   'category': '한식>소고기구이',\n",
       "   'description': '',\n",
       "   'telephone': '',\n",
       "   'address': '대전광역시 유성구 노은동 550-3',\n",
       "   'roadAddress': '대전광역시 유성구 노은동로79번길 71',\n",
       "   'mapx': '339120',\n",
       "   'mapy': '418768'},\n",
       "  {'title': '뜨랑한우 노은본점',\n",
       "   'link': 'http://thrang.kr/',\n",
       "   'category': '한식>소고기구이',\n",
       "   'description': '',\n",
       "   'telephone': '',\n",
       "   'address': '대전광역시 유성구 노은동 534-21',\n",
       "   'roadAddress': '대전광역시 유성구 노은동로75번길 48',\n",
       "   'mapx': '339254',\n",
       "   'mapy': '418744'},\n",
       "  {'title': '<b>고기</b>천국',\n",
       "   'link': '',\n",
       "   'category': '한식>육류,고기요리',\n",
       "   'description': '',\n",
       "   'telephone': '',\n",
       "   'address': '대전광역시 유성구 노은동 535-35 1층',\n",
       "   'roadAddress': '대전광역시 유성구 노은동로79번길 42',\n",
       "   'mapx': '339286',\n",
       "   'mapy': '418851'},\n",
       "  {'title': '동가마골',\n",
       "   'link': '',\n",
       "   'category': '한식>돼지고기구이',\n",
       "   'description': '',\n",
       "   'telephone': '',\n",
       "   'address': '대전광역시 유성구 노은동 312-18',\n",
       "   'roadAddress': '대전광역시 유성구 노은서로 31-7',\n",
       "   'mapx': '338620',\n",
       "   'mapy': '418324'},\n",
       "  {'title': '숯불닭갈비계륵장군 유성점',\n",
       "   'link': '',\n",
       "   'category': '육류,고기요리',\n",
       "   'description': '',\n",
       "   'telephone': '',\n",
       "   'address': '대전광역시 유성구 노은동 548-9',\n",
       "   'roadAddress': '대전광역시 유성구 노은동로75번길 102-26',\n",
       "   'mapx': '339202',\n",
       "   'mapy': '418807'}]}"
      ]
     },
     "execution_count": 32,
     "metadata": {},
     "output_type": "execute_result"
    }
   ],
   "source": [
    "res.json()"
   ]
  }
 ],
 "metadata": {
  "kernelspec": {
   "display_name": "Python 3",
   "language": "python",
   "name": "python3"
  },
  "language_info": {
   "codemirror_mode": {
    "name": "ipython",
    "version": 3
   },
   "file_extension": ".py",
   "mimetype": "text/x-python",
   "name": "python",
   "nbconvert_exporter": "python",
   "pygments_lexer": "ipython3",
   "version": "3.7.4"
  }
 },
 "nbformat": 4,
 "nbformat_minor": 2
}
