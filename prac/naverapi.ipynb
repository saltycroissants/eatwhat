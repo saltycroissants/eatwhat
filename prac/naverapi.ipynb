{
 "cells": [
  {
   "cell_type": "code",
   "execution_count": null,
   "metadata": {},
   "outputs": [],
   "source": [
    "const express = require('express');\n",
    "let app = express();\n",
    "const client_id = 'hBwX2RgYzXT21cJDCpTR';\n",
    "const client_secret = 'jSx89D1yl0';\n",
    "const option = {\n",
    "  query  :'고기', //이미지 검색 텍스트\n",
    "}\n",
    "console.log(client_id);"
   ]
  },
  {
   "cell_type": "code",
   "execution_count": null,
   "metadata": {},
   "outputs": [],
   "source": [
    "request.get({\n",
    "  url:'https://openapi.naver.com/v1/search/local.json', //xml 요청 주소는 https://openapi.naver.com/v1/search/local.xml\n",
    "  qs :option,\n",
    "  headers:{\n",
    "    'X-Naver-Client-Id': hBwX2RgYzXT21cJDCpTR,\n",
    "    'X-Naver-Client-Secret': jSx89D1yl0\n",
    "  }\n",
    "}, function(err, res, body) {\n",
    "  let json = JSON.parse(body) //json으로 파싱\n",
    "console.log(json);\n",
    "})\n"
   ]
  },
  {
   "cell_type": "code",
   "execution_count": null,
   "metadata": {},
   "outputs": [],
   "source": []
  }
 ],
 "metadata": {
  "kernelspec": {
   "display_name": "Javascript (Node.js)",
   "language": "javascript",
   "name": "javascript"
  },
  "language_info": {
   "file_extension": ".js",
   "mimetype": "application/javascript",
   "name": "javascript",
   "version": "10.16.0"
  }
 },
 "nbformat": 4,
 "nbformat_minor": 2
}
